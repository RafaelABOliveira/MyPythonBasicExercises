{
 "cells": [
  {
   "cell_type": "code",
   "execution_count": 1,
   "metadata": {},
   "outputs": [
    {
     "name": "stdout",
     "output_type": "stream",
     "text": [
      "First Program\n",
      "Help on built-in function print in module builtins:\n",
      "\n",
      "print(...)\n",
      "    print(value, ..., sep=' ', end='\\n', file=sys.stdout, flush=False)\n",
      "    \n",
      "    Prints the values to a stream, or to sys.stdout by default.\n",
      "    Optional keyword arguments:\n",
      "    file:  a file-like object (stream); defaults to the current sys.stdout.\n",
      "    sep:   string inserted between values, default a space.\n",
      "    end:   string appended after the last value, default a newline.\n",
      "    flush: whether to forcibly flush the stream.\n",
      "\n"
     ]
    }
   ],
   "source": [
    "print('First Program')\n",
    "1 \\\n",
    "+ 2\n",
    "\n",
    "help(print)"
   ]
  },
  {
   "cell_type": "code",
   "execution_count": 9,
   "metadata": {},
   "outputs": [
    {
     "data": {
      "text/plain": [
       "6"
      ]
     },
     "execution_count": 9,
     "metadata": {},
     "output_type": "execute_result"
    }
   ],
   "source": [
    "1 + 2 + 3 "
   ]
  },
  {
   "cell_type": "code",
   "execution_count": 10,
   "metadata": {},
   "outputs": [
    {
     "name": "stdout",
     "output_type": "stream",
     "text": [
      "6\n",
      "9\n"
     ]
    }
   ],
   "source": [
    "print (1 + 2 + 3)\n",
    "print (3 + 3 + 3)"
   ]
  },
  {
   "cell_type": "code",
   "execution_count": 12,
   "metadata": {},
   "outputs": [],
   "source": [
    "# Basics Types"
   ]
  },
  {
   "cell_type": "code",
   "execution_count": 16,
   "metadata": {},
   "outputs": [
    {
     "name": "stdout",
     "output_type": "stream",
     "text": [
      "You are very very very cool\n",
      "None\n"
     ]
    }
   ],
   "source": [
    "print ('You are ' + 3 * 'very ' + 'cool')\n",
    "print (None)"
   ]
  },
  {
   "cell_type": "markdown",
   "metadata": {},
   "source": [
    "# Variables"
   ]
  },
  {
   "cell_type": "code",
   "execution_count": 2,
   "metadata": {
    "scrolled": true
   },
   "outputs": [
    {
     "name": "stdout",
     "output_type": "stream",
     "text": [
      "15.2\n",
      "Im a String now\n"
     ]
    }
   ],
   "source": [
    "a = 10\n",
    "b = 5.2\n",
    "\n",
    "print (a + b)\n",
    "\n",
    "a = 'Im a String now'\n",
    "print(a)"
   ]
  },
  {
   "cell_type": "markdown",
   "metadata": {},
   "source": [
    "# Comments"
   ]
  },
  {
   "cell_type": "code",
   "execution_count": 4,
   "metadata": {},
   "outputs": [],
   "source": [
    "# comments"
   ]
  },
  {
   "cell_type": "code",
   "execution_count": 8,
   "metadata": {},
   "outputs": [
    {
     "name": "stdout",
     "output_type": "stream",
     "text": [
      "2440\n"
     ]
    }
   ],
   "source": [
    "salario = 5000\n",
    "despesas = 2560\n",
    "\n",
    "#make calc\n",
    "\n",
    "'''\n",
    "a idéia é comentar\n",
    "'''\n",
    "\n",
    "print(salario - despesas)"
   ]
  },
  {
   "cell_type": "markdown",
   "metadata": {},
   "source": [
    "# Arithmetics Operators"
   ]
  },
  {
   "cell_type": "code",
   "execution_count": 14,
   "metadata": {},
   "outputs": [
    {
     "name": "stdout",
     "output_type": "stream",
     "text": [
      "5\n",
      "-3\n",
      "13.799999999999999\n",
      "1.1379310344827587\n",
      "1.0\n",
      "59049\n",
      "24\n"
     ]
    }
   ],
   "source": [
    "print(2 + 3)\n",
    "print(4 - 7)\n",
    "print(3 * 4.6)\n",
    "print(3.3 / 2.9)\n",
    "print(3.3 // 2.9) #obrigado a ser um número inteiro\n",
    "print(9 ** 5) #elevate\n",
    "\n",
    "a = 12\n",
    "b = a\n",
    "\n",
    "print(a + b)"
   ]
  },
  {
   "cell_type": "markdown",
   "metadata": {},
   "source": [
    "# My variables\n",
    "\n",
    "salary = 5000.32\n",
    "expenses = 2567.56\n",
    "\n",
    "#calc\n",
    "commited_percentage = expenses / salary * 100\n",
    "commited_percentage"
   ]
  },
  {
   "cell_type": "markdown",
   "metadata": {},
   "source": [
    "# Relational Operators"
   ]
  },
  {
   "cell_type": "code",
   "execution_count": 1,
   "metadata": {},
   "outputs": [
    {
     "data": {
      "text/plain": [
       "False"
      ]
     },
     "execution_count": 1,
     "metadata": {},
     "output_type": "execute_result"
    }
   ],
   "source": [
    "2 == '2' #JS is true but in Python is false"
   ]
  },
  {
   "cell_type": "markdown",
   "metadata": {},
   "source": [
    "# Assingment Operators"
   ]
  },
  {
   "cell_type": "code",
   "execution_count": 4,
   "metadata": {},
   "outputs": [
    {
     "name": "stdout",
     "output_type": "stream",
     "text": [
      "10\n",
      "15\n",
      "45\n",
      "11.25\n",
      "3.25\n",
      "362.5908203125\n"
     ]
    }
   ],
   "source": [
    "a = 3\n",
    "a = a + 7\n",
    "print (a)\n",
    "\n",
    "a += 5\n",
    "print(a)\n",
    "a *= 3\n",
    "print(a)\n",
    "a /= 4\n",
    "print (a)\n",
    "a %= 4\n",
    "print(a)\n",
    "a **= 5\n",
    "print(a)"
   ]
  },
  {
   "cell_type": "markdown",
   "metadata": {},
   "source": [
    "# Logical Operators"
   ]
  },
  {
   "cell_type": "code",
   "execution_count": 14,
   "metadata": {},
   "outputs": [
    {
     "data": {
      "text/plain": [
       "False"
      ]
     },
     "execution_count": 14,
     "metadata": {},
     "output_type": "execute_result"
    }
   ],
   "source": [
    "True and False\n",
    "7 != 3 and 2>3\n",
    "\n",
    "True or False\n",
    "7 != 3 and 2>3\n",
    "\n",
    "#Real Structure\n",
    "saldo = 1000\n",
    "salario = 4000\n",
    "despesas = 3900\n",
    "\n",
    "saldo_positivo = saldo > 0\n",
    "despesas_controladas = salario - despesas >= 0.2 * salario\n",
    "\n",
    "meta = saldo_positivo and despesas_controladas\n",
    "meta"
   ]
  },
  {
   "cell_type": "code",
   "execution_count": 19,
   "metadata": {},
   "outputs": [
    {
     "name": "stdout",
     "output_type": "stream",
     "text": [
      "Tv50=False Tv32=True Sorvete=True Saudável=False\n"
     ]
    },
    {
     "data": {
      "text/plain": [
       "'1, False = resultado'"
      ]
     },
     "execution_count": 19,
     "metadata": {},
     "output_type": "execute_result"
    }
   ],
   "source": [
    "#Logical Operators\n",
    "\n",
    "trabalho_terca = True\n",
    "trabalho_quinta = False\n",
    "\n",
    "\"\"\"\n",
    "Comfirmando os 2: TV 50' + Sorvete\n",
    "Confirmando apenas 1: TV 32' + Sorvete\n",
    "Nenhum Confirmado: Fica em casa\n",
    "\"\"\"\n",
    "\n",
    "tv_50 = trabalho_terca and trabalho_quinta\n",
    "sorvete = trabalho_terca or trabalho_quinta\n",
    "tv_32 = trabalho_terca != trabalho_quinta\n",
    "mais_saudavel = not sorvete\n",
    "\n",
    "print('Tv50={} Tv32={} Sorvete={} Saudável={}'\n",
    "     .format (tv_50, tv_32, sorvete, mais_saudavel))\n",
    "\n",
    "\"{2}, {0} = {1}\".format(1, False, 'resultado') #choose sequence\n",
    "\"{}, {} = {}\".format(1, False, 'resultado') #logical sequence"
   ]
  },
  {
   "cell_type": "markdown",
   "metadata": {},
   "source": [
    "# Unary operators"
   ]
  },
  {
   "cell_type": "code",
   "execution_count": 23,
   "metadata": {},
   "outputs": [
    {
     "data": {
      "text/plain": [
       "3"
      ]
     },
     "execution_count": 23,
     "metadata": {},
     "output_type": "execute_result"
    }
   ],
   "source": [
    "a = 3\n",
    "++a\n",
    "++a\n",
    "-a\n",
    "+a"
   ]
  },
  {
   "cell_type": "markdown",
   "metadata": {},
   "source": [
    "# Ternary Operators"
   ]
  },
  {
   "cell_type": "code",
   "execution_count": 28,
   "metadata": {},
   "outputs": [
    {
     "name": "stdout",
     "output_type": "stream",
     "text": [
      "Hoje estou com as roupas molhadas.\n",
      "Hoje estou com as roupas molhadas.\n"
     ]
    }
   ],
   "source": [
    "esta_chuvendo = True\n",
    "print('Hoje estou com as roupas ' + ('secas.', 'molhadas.')[esta_chuvendo])\n",
    "\n",
    "print('Hoje estou com as roupas ' + ('molhadas.' if esta_chuvendo else 'secas.'))"
   ]
  },
  {
   "cell_type": "code",
   "execution_count": 30,
   "metadata": {},
   "outputs": [
    {
     "data": {
      "text/plain": [
       "True"
      ]
     },
     "execution_count": 30,
     "metadata": {},
     "output_type": "execute_result"
    }
   ],
   "source": [
    "x = 3\n",
    "y = x\n",
    "z = 3\n",
    "x is y\n",
    "y is z\n",
    "x is not y\n",
    "\n",
    "lista_a = [1, 2, 3]\n",
    "lista_b = lista_a\n",
    "lista_c = [1, 2, 3]\n",
    "\n",
    "lista_a is lista_b\n",
    "lista_a is not lista_c"
   ]
  },
  {
   "cell_type": "markdown",
   "metadata": {},
   "source": [
    "# Builtins"
   ]
  },
  {
   "cell_type": "code",
   "execution_count": 40,
   "metadata": {},
   "outputs": [
    {
     "name": "stdout",
     "output_type": "stream",
     "text": [
      "3.3333333333333335\n"
     ]
    },
    {
     "data": {
      "text/plain": [
       "13"
      ]
     },
     "execution_count": 40,
     "metadata": {},
     "output_type": "execute_result"
    }
   ],
   "source": [
    "type(1)\n",
    "__builtins__.type('Fala Galera!')\n",
    "__builtins__.print(10 / 3)\n",
    "\n",
    "# help(dir)\n",
    "\n",
    "dir()\n",
    "\n",
    "1 + 2\n",
    "\n",
    "dir(__builtins__)\n",
    "\n",
    "nome = 'João da Silva'\n",
    "type(nome)\n",
    "__builtins__.len(nome)"
   ]
  },
  {
   "cell_type": "markdown",
   "metadata": {},
   "source": [
    "# Convert Types"
   ]
  },
  {
   "cell_type": "code",
   "execution_count": 46,
   "metadata": {},
   "outputs": [
    {
     "name": "stdout",
     "output_type": "stream",
     "text": [
      "<class 'int'>\n",
      "<class 'str'>\n",
      "5\n",
      "23\n"
     ]
    },
    {
     "data": {
      "text/plain": [
       "str"
      ]
     },
     "execution_count": 46,
     "metadata": {},
     "output_type": "execute_result"
    }
   ],
   "source": [
    "2 + 3\n",
    "'2' + '3'\n",
    "\n",
    "\n",
    "a = 2\n",
    "b = '3'\n",
    "\n",
    "print(type(a))\n",
    "print(type(b))\n",
    "\n",
    "print(a + int(b))\n",
    "print(str(a) + b)\n",
    "\n",
    "type(str(a))\n",
    "\n"
   ]
  },
  {
   "cell_type": "markdown",
   "metadata": {},
   "source": [
    "# Automatic Coercion"
   ]
  },
  {
   "cell_type": "code",
   "execution_count": 51,
   "metadata": {},
   "outputs": [
    {
     "data": {
      "text/plain": [
       "float"
      ]
     },
     "execution_count": 51,
     "metadata": {},
     "output_type": "execute_result"
    }
   ],
   "source": [
    "10 / 2\n",
    "10 // 3 #obriga o resultado ser inteiro\n",
    "type(1 + 2)\n",
    "type(1.1 + 3)"
   ]
  }
 ],
 "metadata": {
  "kernelspec": {
   "display_name": "Python 3",
   "language": "python",
   "name": "python3"
  },
  "language_info": {
   "codemirror_mode": {
    "name": "ipython",
    "version": 3
   },
   "file_extension": ".py",
   "mimetype": "text/x-python",
   "name": "python",
   "nbconvert_exporter": "python",
   "pygments_lexer": "ipython3",
   "version": "3.7.1"
  }
 },
 "nbformat": 4,
 "nbformat_minor": 2
}
